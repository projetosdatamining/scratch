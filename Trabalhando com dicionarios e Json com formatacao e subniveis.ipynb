{
 "cells": [
  {
   "cell_type": "markdown",
   "metadata": {},
   "source": [
    "## Itens neste arquivo"
   ]
  },
  {
   "cell_type": "markdown",
   "metadata": {},
   "source": [
    "* Funcao generica para aplicação de formatacao em JSON\n",
    "* Detalhamento com explicação passo a passo de elementos/objetos com inserção encadeada em níveis no dicionario/Json e acesso de dados "
   ]
  },
  {
   "cell_type": "code",
   "execution_count": 1,
   "metadata": {
    "collapsed": true
   },
   "outputs": [],
   "source": [
    "meus_livros = [\n",
    "    { \"id\": 0, \"livro\": \"livro0\"},\n",
    "    { \"id\": 1, \"livro\": \"livro1\"},\n",
    "    { \"id\": 2, \"livro\": \"livro2\"},\n",
    "\n",
    "]"
   ]
  },
  {
   "cell_type": "markdown",
   "metadata": {},
   "source": [
    "### Funcao generica para aplicação de formatacao em JSON"
   ]
  },
  {
   "cell_type": "code",
   "execution_count": 2,
   "metadata": {
    "collapsed": false
   },
   "outputs": [
    {
     "name": "stdout",
     "output_type": "stream",
     "text": [
      "[\n",
      "    {\n",
      "        \"id\": 0, \n",
      "        \"livro\": \"livro0\"\n",
      "    }, \n",
      "    {\n",
      "        \"id\": 1, \n",
      "        \"livro\": \"livro1\"\n",
      "    }, \n",
      "    {\n",
      "        \"id\": 2, \n",
      "        \"livro\": \"livro2\"\n",
      "    }\n",
      "]\n"
     ]
    }
   ],
   "source": [
    "import json\n",
    "\n",
    "def pp_json(json_thing, sort=True, indents=4):\n",
    "    if type(json_thing) is str:\n",
    "        print(json.dumps(json.loads(json_thing), sort_keys=sort, indent=indents))\n",
    "    else:\n",
    "        print(json.dumps(json_thing, sort_keys=sort, indent=indents))\n",
    "    return None\n",
    "\n",
    "pp_json(meus_livros)"
   ]
  },
  {
   "cell_type": "code",
   "execution_count": 3,
   "metadata": {
    "collapsed": true
   },
   "outputs": [],
   "source": [
    "livros_correlacionados=[(0,1),(1,2)]"
   ]
  },
  {
   "cell_type": "code",
   "execution_count": 4,
   "metadata": {
    "collapsed": true
   },
   "outputs": [],
   "source": [
    "for marcador in meus_livros:\n",
    "    marcador[\"correlacionados\"] = []"
   ]
  },
  {
   "cell_type": "code",
   "execution_count": 5,
   "metadata": {
    "collapsed": false
   },
   "outputs": [
    {
     "data": {
      "text/plain": [
       "[{'correlacionados': [], 'id': 0, 'livro': 'livro0'},\n",
       " {'correlacionados': [], 'id': 1, 'livro': 'livro1'},\n",
       " {'correlacionados': [], 'id': 2, 'livro': 'livro2'}]"
      ]
     },
     "execution_count": 5,
     "metadata": {},
     "output_type": "execute_result"
    }
   ],
   "source": [
    "meus_livros"
   ]
  },
  {
   "cell_type": "markdown",
   "metadata": {},
   "source": [
    "#### Observe nos resultados abaixo que todos os livros tem a mesma hierarquia e que aplicamos uma formatacao de saida de indentacao para o formato JSON após converter o dicionario de livros"
   ]
  },
  {
   "cell_type": "code",
   "execution_count": 6,
   "metadata": {
    "collapsed": false
   },
   "outputs": [
    {
     "name": "stdout",
     "output_type": "stream",
     "text": [
      "[\n",
      "        {\n",
      "                \"correlacionados\": [], \n",
      "                \"id\": 0, \n",
      "                \"livro\": \"livro0\"\n",
      "        }, \n",
      "        {\n",
      "                \"correlacionados\": [], \n",
      "                \"id\": 1, \n",
      "                \"livro\": \"livro1\"\n",
      "        }, \n",
      "        {\n",
      "                \"correlacionados\": [], \n",
      "                \"id\": 2, \n",
      "                \"livro\": \"livro2\"\n",
      "        }\n",
      "]\n"
     ]
    }
   ],
   "source": [
    "import json\n",
    "livros_jsonarray = json.dumps(meus_livros,indent=8, sort_keys=True)\n",
    "print(livros_jsonarray)"
   ]
  },
  {
   "cell_type": "markdown",
   "metadata": {},
   "source": [
    "#### Agora vamos fazer o o livro dois receber o zero como referencia"
   ]
  },
  {
   "cell_type": "code",
   "execution_count": 7,
   "metadata": {
    "collapsed": false
   },
   "outputs": [],
   "source": [
    "meus_livros[2]['correlacionados'].append(meus_livros[0])"
   ]
  },
  {
   "cell_type": "code",
   "execution_count": 8,
   "metadata": {
    "collapsed": false
   },
   "outputs": [
    {
     "name": "stdout",
     "output_type": "stream",
     "text": [
      "[\n",
      "        {\n",
      "                \"correlacionados\": [], \n",
      "                \"id\": 0, \n",
      "                \"livro\": \"livro0\"\n",
      "        }, \n",
      "        {\n",
      "                \"correlacionados\": [], \n",
      "                \"id\": 1, \n",
      "                \"livro\": \"livro1\"\n",
      "        }, \n",
      "        {\n",
      "                \"correlacionados\": [\n",
      "                        {\n",
      "                                \"correlacionados\": [], \n",
      "                                \"id\": 0, \n",
      "                                \"livro\": \"livro0\"\n",
      "                        }\n",
      "                ], \n",
      "                \"id\": 2, \n",
      "                \"livro\": \"livro2\"\n",
      "        }\n",
      "]\n"
     ]
    }
   ],
   "source": [
    "livros_jsonarray = json.dumps(meus_livros,indent=8, sort_keys=True)\n",
    "print(livros_jsonarray)"
   ]
  },
  {
   "cell_type": "markdown",
   "metadata": {},
   "source": [
    "#### Por fim vamos fazer o zero receber o 1"
   ]
  },
  {
   "cell_type": "code",
   "execution_count": 9,
   "metadata": {
    "collapsed": false
   },
   "outputs": [
    {
     "name": "stdout",
     "output_type": "stream",
     "text": [
      "[\n",
      "        {\n",
      "                \"correlacionados\": [], \n",
      "                \"id\": 0, \n",
      "                \"livro\": \"livro0\"\n",
      "        }, \n",
      "        {\n",
      "                \"correlacionados\": [], \n",
      "                \"id\": 1, \n",
      "                \"livro\": \"livro1\"\n",
      "        }, \n",
      "        {\n",
      "                \"correlacionados\": [\n",
      "                        {\n",
      "                                \"correlacionados\": [], \n",
      "                                \"id\": 0, \n",
      "                                \"livro\": \"livro0\"\n",
      "                        }\n",
      "                ], \n",
      "                \"id\": 2, \n",
      "                \"livro\": \"livro2\"\n",
      "        }\n",
      "]\n"
     ]
    }
   ],
   "source": [
    "livros_jsonarray = json.dumps(meus_livros,indent=8, sort_keys=True)\n",
    "print(livros_jsonarray)"
   ]
  },
  {
   "cell_type": "code",
   "execution_count": 10,
   "metadata": {
    "collapsed": true
   },
   "outputs": [],
   "source": [
    "meus_livros[0]['correlacionados'].append(meus_livros[1])"
   ]
  },
  {
   "cell_type": "markdown",
   "metadata": {},
   "source": [
    "É importante verificar o encadeamento de objetos no resultado abaixo. Observe que quando adicionamos o objeto 1 correlacionando ao objeto 0 o livro 2 que já possuia o objeto 0 e está apontando para o referido objeto prontamente identificou que o armazenamento do objeto zero aumentou, o que por fim aumentou o nível de profundidade do objeto 2 para incluir o objeto 0 completo"
   ]
  },
  {
   "cell_type": "markdown",
   "metadata": {},
   "source": [
    "### Imprimindo no formato JSON"
   ]
  },
  {
   "cell_type": "code",
   "execution_count": 11,
   "metadata": {
    "collapsed": false
   },
   "outputs": [
    {
     "name": "stdout",
     "output_type": "stream",
     "text": [
      "[\n",
      "        {\n",
      "                \"correlacionados\": [\n",
      "                        {\n",
      "                                \"correlacionados\": [], \n",
      "                                \"id\": 1, \n",
      "                                \"livro\": \"livro1\"\n",
      "                        }\n",
      "                ], \n",
      "                \"id\": 0, \n",
      "                \"livro\": \"livro0\"\n",
      "        }, \n",
      "        {\n",
      "                \"correlacionados\": [], \n",
      "                \"id\": 1, \n",
      "                \"livro\": \"livro1\"\n",
      "        }, \n",
      "        {\n",
      "                \"correlacionados\": [\n",
      "                        {\n",
      "                                \"correlacionados\": [\n",
      "                                        {\n",
      "                                                \"correlacionados\": [], \n",
      "                                                \"id\": 1, \n",
      "                                                \"livro\": \"livro1\"\n",
      "                                        }\n",
      "                                ], \n",
      "                                \"id\": 0, \n",
      "                                \"livro\": \"livro0\"\n",
      "                        }\n",
      "                ], \n",
      "                \"id\": 2, \n",
      "                \"livro\": \"livro2\"\n",
      "        }\n",
      "]\n"
     ]
    }
   ],
   "source": [
    "import json\n",
    "livros_jsonarray = json.dumps(meus_livros,indent=8, sort_keys=True)\n",
    "print(livros_jsonarray)"
   ]
  },
  {
   "cell_type": "markdown",
   "metadata": {},
   "source": [
    "### Criando uma funcao que imprime os livros que sao possuem relacao com os livros correlacionados"
   ]
  },
  {
   "cell_type": "code",
   "execution_count": 12,
   "metadata": {
    "collapsed": true
   },
   "outputs": [],
   "source": [
    "def livros_correlacionados(ml1):\n",
    "    return [livro[\"id\"] for livro in ml1['correlacionados'] ]    "
   ]
  },
  {
   "cell_type": "code",
   "execution_count": 13,
   "metadata": {
    "collapsed": false
   },
   "outputs": [],
   "source": [
    "def livros_subcorrelacionados(ml1):\n",
    "    return [foaf[\"id\"] for livro in ml1['correlacionados'] \n",
    "                 for foaf in livro[\"correlacionados\"]]    "
   ]
  },
  {
   "cell_type": "code",
   "execution_count": 14,
   "metadata": {
    "collapsed": false
   },
   "outputs": [
    {
     "data": {
      "text/plain": [
       "[0]"
      ]
     },
     "execution_count": 14,
     "metadata": {},
     "output_type": "execute_result"
    }
   ],
   "source": [
    "livros_correlacionados(meus_livros[2])"
   ]
  },
  {
   "cell_type": "code",
   "execution_count": 15,
   "metadata": {
    "collapsed": false
   },
   "outputs": [
    {
     "data": {
      "text/plain": [
       "[1]"
      ]
     },
     "execution_count": 15,
     "metadata": {},
     "output_type": "execute_result"
    }
   ],
   "source": [
    "livros_subcorrelacionados(meus_livros[2])"
   ]
  },
  {
   "cell_type": "markdown",
   "metadata": {},
   "source": [
    "### Detalhando funcionamento"
   ]
  },
  {
   "cell_type": "code",
   "execution_count": 16,
   "metadata": {
    "collapsed": false
   },
   "outputs": [
    {
     "name": "stdout",
     "output_type": "stream",
     "text": [
      "{\n",
      "    \"correlacionados\": [\n",
      "        {\n",
      "            \"correlacionados\": [], \n",
      "            \"id\": 1, \n",
      "            \"livro\": \"livro1\"\n",
      "        }\n",
      "    ], \n",
      "    \"id\": 0, \n",
      "    \"livro\": \"livro0\"\n",
      "}\n"
     ]
    }
   ],
   "source": [
    "ml1=meus_livros[2]\n",
    "for livro in ml1['correlacionados']:\n",
    "    pp_json(livro)\n",
    "    saida=livro"
   ]
  },
  {
   "cell_type": "code",
   "execution_count": 17,
   "metadata": {
    "collapsed": false
   },
   "outputs": [
    {
     "name": "stdout",
     "output_type": "stream",
     "text": [
      "{'livro': 'livro1', 'correlacionados': [], 'id': 1}\n"
     ]
    },
    {
     "data": {
      "text/plain": [
       "1"
      ]
     },
     "execution_count": 17,
     "metadata": {},
     "output_type": "execute_result"
    }
   ],
   "source": [
    "for foaf in saida[\"correlacionados\"]:\n",
    "    print(foaf)\n",
    "foaf[\"id\"]"
   ]
  },
  {
   "cell_type": "markdown",
   "metadata": {},
   "source": [
    "#### Observer que podemos acessar os vários níveis introduzindo um for dentro de outro"
   ]
  },
  {
   "cell_type": "code",
   "execution_count": 18,
   "metadata": {
    "collapsed": false
   },
   "outputs": [
    {
     "data": {
      "text/plain": [
       "[1]"
      ]
     },
     "execution_count": 18,
     "metadata": {},
     "output_type": "execute_result"
    }
   ],
   "source": [
    "[foaf[\"id\"] for livro in ml1['correlacionados'] \n",
    "                 for foaf in livro[\"correlacionados\"]]    "
   ]
  }
 ],
 "metadata": {
  "kernelspec": {
   "display_name": "Python 2",
   "language": "python",
   "name": "python2"
  },
  "language_info": {
   "codemirror_mode": {
    "name": "ipython",
    "version": 2
   },
   "file_extension": ".py",
   "mimetype": "text/x-python",
   "name": "python",
   "nbconvert_exporter": "python",
   "pygments_lexer": "ipython2",
   "version": "2.7.12"
  }
 },
 "nbformat": 4,
 "nbformat_minor": 1
}
