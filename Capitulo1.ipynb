{
 "cells": [
  {
   "cell_type": "markdown",
   "metadata": {},
   "source": [
    "# Capitulo 01 - Detalhamento"
   ]
  },
  {
   "cell_type": "markdown",
   "metadata": {},
   "source": [
    "### Criando um dicionário de usuários"
   ]
  },
  {
   "cell_type": "code",
   "execution_count": 1,
   "metadata": {
    "collapsed": true
   },
   "outputs": [],
   "source": [
    "users = [\n",
    "    { \"id\": 0, \"name\": \"Hero\" },\n",
    "    { \"id\": 1, \"name\": \"Dunn\" },\n",
    "    { \"id\": 2, \"name\": \"Sue\" },\n",
    "    { \"id\": 3, \"name\": \"Chi\" },\n",
    "    { \"id\": 4, \"name\": \"Thor\" },\n",
    "    { \"id\": 5, \"name\": \"Clive\" },\n",
    "    { \"id\": 6, \"name\": \"Hicks\" },\n",
    "    { \"id\": 7, \"name\": \"Devin\" },\n",
    "    { \"id\": 8, \"name\": \"Kate\" },\n",
    "    { \"id\": 9, \"name\": \"Klein\" }\n",
    "]"
   ]
  },
  {
   "cell_type": "markdown",
   "metadata": {},
   "source": [
    "Resultado:"
   ]
  },
  {
   "cell_type": "code",
   "execution_count": 2,
   "metadata": {
    "collapsed": false
   },
   "outputs": [
    {
     "data": {
      "text/plain": [
       "[{'id': 0, 'name': 'Hero'},\n",
       " {'id': 1, 'name': 'Dunn'},\n",
       " {'id': 2, 'name': 'Sue'},\n",
       " {'id': 3, 'name': 'Chi'},\n",
       " {'id': 4, 'name': 'Thor'},\n",
       " {'id': 5, 'name': 'Clive'},\n",
       " {'id': 6, 'name': 'Hicks'},\n",
       " {'id': 7, 'name': 'Devin'},\n",
       " {'id': 8, 'name': 'Kate'},\n",
       " {'id': 9, 'name': 'Klein'}]"
      ]
     },
     "execution_count": 2,
     "metadata": {},
     "output_type": "execute_result"
    }
   ],
   "source": [
    "users"
   ]
  },
  {
   "cell_type": "code",
   "execution_count": 3,
   "metadata": {
    "collapsed": true
   },
   "outputs": [],
   "source": [
    "friendships = [(0, 1), (0, 2), (1, 2), (1, 3), (2, 3), (3, 4),\n",
    "(4, 5), (5, 6), (5, 7), (6, 8), (7, 8), (8, 9)]"
   ]
  },
  {
   "cell_type": "markdown",
   "metadata": {},
   "source": [
    "Resultado:"
   ]
  },
  {
   "cell_type": "markdown",
   "metadata": {},
   "source": [
    "![Image - Friends Networdk](cap1/friends_network.jpg)"
   ]
  },
  {
   "cell_type": "markdown",
   "metadata": {},
   "source": [
    "### Adicionando uma chave friends e inicializando a lista como vazia"
   ]
  },
  {
   "cell_type": "code",
   "execution_count": 4,
   "metadata": {
    "collapsed": false
   },
   "outputs": [],
   "source": [
    "for user in users:\n",
    "    user[\"friends\"] = []"
   ]
  },
  {
   "cell_type": "markdown",
   "metadata": {},
   "source": [
    "resultado:"
   ]
  },
  {
   "cell_type": "code",
   "execution_count": 5,
   "metadata": {
    "collapsed": false
   },
   "outputs": [
    {
     "data": {
      "text/plain": [
       "[{'friends': [], 'id': 0, 'name': 'Hero'},\n",
       " {'friends': [], 'id': 1, 'name': 'Dunn'},\n",
       " {'friends': [], 'id': 2, 'name': 'Sue'},\n",
       " {'friends': [], 'id': 3, 'name': 'Chi'},\n",
       " {'friends': [], 'id': 4, 'name': 'Thor'},\n",
       " {'friends': [], 'id': 5, 'name': 'Clive'},\n",
       " {'friends': [], 'id': 6, 'name': 'Hicks'},\n",
       " {'friends': [], 'id': 7, 'name': 'Devin'},\n",
       " {'friends': [], 'id': 8, 'name': 'Kate'},\n",
       " {'friends': [], 'id': 9, 'name': 'Klein'}]"
      ]
     },
     "execution_count": 5,
     "metadata": {},
     "output_type": "execute_result"
    }
   ],
   "source": [
    "users"
   ]
  },
  {
   "cell_type": "markdown",
   "metadata": {},
   "source": [
    "### Agora vamos adicionar os amigos de cada um nas listas de amigos da seguinte forma:"
   ]
  },
  {
   "cell_type": "code",
   "execution_count": 6,
   "metadata": {
    "collapsed": false
   },
   "outputs": [],
   "source": [
    "users[0][\"friends\"].append(users[1][\"id\"]) #Adicionando somente id do amigo\n",
    "users[1][\"friends\"].append(users[0]) #Adicao completa de usuario amigo"
   ]
  },
  {
   "cell_type": "markdown",
   "metadata": {},
   "source": [
    "resultado:<br>\n",
    "   > **user 0** = {'friends': [1], <br>\n",
    "            'id': 0, <br>\n",
    "            'name': 'Hero'}<br>\n",
    "            <br>\n",
    "   > **user 1** = {'friends': [{'friends': [1], 'id': 0, 'name': 'Hero'}],<br>\n",
    "      'id': 1,<br>\n",
    "      'name': 'Dunn'}<br>"
   ]
  },
  {
   "cell_type": "markdown",
   "metadata": {},
   "source": [
    "Observe que **users** na posição **\"0\"** em seu atributo friends, receberá o valor de id de  **users \"1\"**<br>\n",
    "Já no segundo caso, observe que **users** na posição **\"1\"** em seu atributo friends, receberá o **objeto** completo\"  **users \"0\"**<br>"
   ]
  },
  {
   "cell_type": "markdown",
   "metadata": {},
   "source": [
    "#### Observe que ao adicionar users[posicao] temos o objeto completo e não somente o id"
   ]
  },
  {
   "cell_type": "code",
   "execution_count": 7,
   "metadata": {
    "collapsed": false
   },
   "outputs": [
    {
     "data": {
      "text/plain": [
       "{'friends': [1], 'id': 0, 'name': 'Hero'}"
      ]
     },
     "execution_count": 7,
     "metadata": {},
     "output_type": "execute_result"
    }
   ],
   "source": [
    "users[0]"
   ]
  },
  {
   "cell_type": "code",
   "execution_count": 8,
   "metadata": {
    "collapsed": false
   },
   "outputs": [
    {
     "data": {
      "text/plain": [
       "{'friends': [{'friends': [1], 'id': 0, 'name': 'Hero'}],\n",
       " 'id': 1,\n",
       " 'name': 'Dunn'}"
      ]
     },
     "execution_count": 8,
     "metadata": {},
     "output_type": "execute_result"
    }
   ],
   "source": [
    "users[1]"
   ]
  },
  {
   "cell_type": "markdown",
   "metadata": {},
   "source": [
    "### Vamos limpar a lista de amigos para preencher novamente sem dados de teste"
   ]
  },
  {
   "cell_type": "code",
   "execution_count": 9,
   "metadata": {
    "collapsed": true
   },
   "outputs": [],
   "source": [
    "for user in users:\n",
    "    user[\"friends\"] = []"
   ]
  },
  {
   "cell_type": "markdown",
   "metadata": {},
   "source": [
    "Verificando **users** and **friendships**"
   ]
  },
  {
   "cell_type": "code",
   "execution_count": 10,
   "metadata": {
    "collapsed": false
   },
   "outputs": [
    {
     "data": {
      "text/plain": [
       "[{'friends': [], 'id': 0, 'name': 'Hero'},\n",
       " {'friends': [], 'id': 1, 'name': 'Dunn'},\n",
       " {'friends': [], 'id': 2, 'name': 'Sue'},\n",
       " {'friends': [], 'id': 3, 'name': 'Chi'},\n",
       " {'friends': [], 'id': 4, 'name': 'Thor'},\n",
       " {'friends': [], 'id': 5, 'name': 'Clive'},\n",
       " {'friends': [], 'id': 6, 'name': 'Hicks'},\n",
       " {'friends': [], 'id': 7, 'name': 'Devin'},\n",
       " {'friends': [], 'id': 8, 'name': 'Kate'},\n",
       " {'friends': [], 'id': 9, 'name': 'Klein'}]"
      ]
     },
     "execution_count": 10,
     "metadata": {},
     "output_type": "execute_result"
    }
   ],
   "source": [
    "users"
   ]
  },
  {
   "cell_type": "code",
   "execution_count": 11,
   "metadata": {
    "collapsed": false
   },
   "outputs": [
    {
     "data": {
      "text/plain": [
       "[(0, 1),\n",
       " (0, 2),\n",
       " (1, 2),\n",
       " (1, 3),\n",
       " (2, 3),\n",
       " (3, 4),\n",
       " (4, 5),\n",
       " (5, 6),\n",
       " (5, 7),\n",
       " (6, 8),\n",
       " (7, 8),\n",
       " (8, 9)]"
      ]
     },
     "execution_count": 11,
     "metadata": {},
     "output_type": "execute_result"
    }
   ],
   "source": [
    "friendships"
   ]
  },
  {
   "cell_type": "markdown",
   "metadata": {},
   "source": [
    "### Preenchendo a lista de amigos"
   ]
  },
  {
   "cell_type": "markdown",
   "metadata": {},
   "source": [
    "Como friendships é uma lista de tuplas, posso utilizar dois índices  (**i** e **j**) para manipular seu conteúdo e fazer alterações populando as listas de amigos"
   ]
  },
  {
   "cell_type": "code",
   "execution_count": 12,
   "metadata": {
    "collapsed": true
   },
   "outputs": [],
   "source": [
    "for i, j in friendships:\n",
    "    users[i][\"friends\"].append(users[j]['id']) \n",
    "    users[j][\"friends\"].append(users[i]['id']) "
   ]
  },
  {
   "cell_type": "markdown",
   "metadata": {},
   "source": [
    "Verificando o resultado para users[0]"
   ]
  },
  {
   "cell_type": "code",
   "execution_count": 13,
   "metadata": {
    "collapsed": false
   },
   "outputs": [
    {
     "data": {
      "text/plain": [
       "[{'friends': [1, 2], 'id': 0, 'name': 'Hero'},\n",
       " {'friends': [0, 2, 3], 'id': 1, 'name': 'Dunn'},\n",
       " {'friends': [0, 1, 3], 'id': 2, 'name': 'Sue'},\n",
       " {'friends': [1, 2, 4], 'id': 3, 'name': 'Chi'},\n",
       " {'friends': [3, 5], 'id': 4, 'name': 'Thor'},\n",
       " {'friends': [4, 6, 7], 'id': 5, 'name': 'Clive'},\n",
       " {'friends': [5, 8], 'id': 6, 'name': 'Hicks'},\n",
       " {'friends': [5, 8], 'id': 7, 'name': 'Devin'},\n",
       " {'friends': [6, 7, 9], 'id': 8, 'name': 'Kate'},\n",
       " {'friends': [8], 'id': 9, 'name': 'Klein'}]"
      ]
     },
     "execution_count": 13,
     "metadata": {},
     "output_type": "execute_result"
    }
   ],
   "source": [
    "users"
   ]
  },
  {
   "cell_type": "markdown",
   "metadata": {},
   "source": [
    "### Adicionando usuario completo como amigo"
   ]
  },
  {
   "cell_type": "markdown",
   "metadata": {},
   "source": [
    "também podemos adicionar o objeto usuario completo na lista de amigos"
   ]
  },
  {
   "cell_type": "code",
   "execution_count": 14,
   "metadata": {
    "collapsed": true
   },
   "outputs": [],
   "source": [
    "for user in users:\n",
    "    user[\"friends\"] = []"
   ]
  },
  {
   "cell_type": "code",
   "execution_count": 15,
   "metadata": {
    "collapsed": true
   },
   "outputs": [],
   "source": [
    "for i, j in friendships:# this works because users[i] is the user whose id is i\n",
    "    users[i][\"friends\"].append(users[j]) # add i as a friend of j\n",
    "    users[j][\"friends\"].append(users[i]) # add j as a friend of i"
   ]
  },
  {
   "cell_type": "markdown",
   "metadata": {},
   "source": [
    "Observe que neste caso o user na posição 9 por exemplo terá toda a estrutura de árvore/subarvores abaixo dela indo pela via (9,8,7,5,4,3...) ou ainda  (9,8,6,5,4,3...)<br>\n",
    "Tendo ao total as seguintes possibilidades de acesso:<br>\n",
    "(9,8,6,5,4,3,2,0)<br>\n",
    "(9,8,6,5,4,3,1,0)<br>\n",
    "(9,8,6,5,4,3,2,1,0)<br>\n",
    "(9,8,6,5,4,3,1,2,0)<br>\n",
    "<br>\n",
    "(9,8,7,5,4,3,2,0)<br>\n",
    "(9,8,7,5,4,3,1,0)<br>\n",
    "(9,8,7,5,4,3,2,1,0)<br>\n",
    "(9,8,7,5,4,3,1,2,0)<br>\n"
   ]
  },
  {
   "cell_type": "code",
   "execution_count": 16,
   "metadata": {
    "collapsed": false
   },
   "outputs": [
    {
     "data": {
      "text/plain": [
       "{'friends': [{'friends': [{...},\n",
       "    {'friends': [{...},\n",
       "      {...},\n",
       "      {'friends': [{...},\n",
       "        {...},\n",
       "        {'friends': [{...},\n",
       "          {'friends': [{...},\n",
       "            {'friends': [{...},\n",
       "              {'friends': [{...},\n",
       "                {'friends': [{...}, {...}], 'id': 7, 'name': 'Devin'},\n",
       "                {'friends': [{...}], 'id': 9, 'name': 'Klein'}],\n",
       "               'id': 8,\n",
       "               'name': 'Kate'}],\n",
       "             'id': 6,\n",
       "             'name': 'Hicks'},\n",
       "            {'friends': [{...},\n",
       "              {'friends': [{'friends': [{...}, {...}],\n",
       "                 'id': 6,\n",
       "                 'name': 'Hicks'},\n",
       "                {...},\n",
       "                {'friends': [{...}], 'id': 9, 'name': 'Klein'}],\n",
       "               'id': 8,\n",
       "               'name': 'Kate'}],\n",
       "             'id': 7,\n",
       "             'name': 'Devin'}],\n",
       "           'id': 5,\n",
       "           'name': 'Clive'}],\n",
       "         'id': 4,\n",
       "         'name': 'Thor'}],\n",
       "       'id': 3,\n",
       "       'name': 'Chi'}],\n",
       "     'id': 2,\n",
       "     'name': 'Sue'},\n",
       "    {'friends': [{...},\n",
       "      {'friends': [{...}, {...}, {...}], 'id': 2, 'name': 'Sue'},\n",
       "      {'friends': [{...},\n",
       "        {'friends': [{...},\n",
       "          {'friends': [{...},\n",
       "            {'friends': [{...},\n",
       "              {'friends': [{...}, {...}], 'id': 7, 'name': 'Devin'},\n",
       "              {'friends': [{...}], 'id': 9, 'name': 'Klein'}],\n",
       "             'id': 8,\n",
       "             'name': 'Kate'}],\n",
       "           'id': 6,\n",
       "           'name': 'Hicks'},\n",
       "          {'friends': [{...},\n",
       "            {'friends': [{'friends': [{...}, {...}], 'id': 6, 'name': 'Hicks'},\n",
       "              {...},\n",
       "              {'friends': [{...}], 'id': 9, 'name': 'Klein'}],\n",
       "             'id': 8,\n",
       "             'name': 'Kate'}],\n",
       "           'id': 7,\n",
       "           'name': 'Devin'}],\n",
       "         'id': 5,\n",
       "         'name': 'Clive'}],\n",
       "       'id': 4,\n",
       "       'name': 'Thor'}],\n",
       "     'id': 3,\n",
       "     'name': 'Chi'}],\n",
       "   'id': 1,\n",
       "   'name': 'Dunn'},\n",
       "  {'friends': [{...},\n",
       "    {'friends': [{...},\n",
       "      {...},\n",
       "      {'friends': [{...},\n",
       "        {...},\n",
       "        {'friends': [{...},\n",
       "          {'friends': [{...},\n",
       "            {'friends': [{...},\n",
       "              {'friends': [{...},\n",
       "                {'friends': [{...}, {...}], 'id': 7, 'name': 'Devin'},\n",
       "                {'friends': [{...}], 'id': 9, 'name': 'Klein'}],\n",
       "               'id': 8,\n",
       "               'name': 'Kate'}],\n",
       "             'id': 6,\n",
       "             'name': 'Hicks'},\n",
       "            {'friends': [{...},\n",
       "              {'friends': [{'friends': [{...}, {...}],\n",
       "                 'id': 6,\n",
       "                 'name': 'Hicks'},\n",
       "                {...},\n",
       "                {'friends': [{...}], 'id': 9, 'name': 'Klein'}],\n",
       "               'id': 8,\n",
       "               'name': 'Kate'}],\n",
       "             'id': 7,\n",
       "             'name': 'Devin'}],\n",
       "           'id': 5,\n",
       "           'name': 'Clive'}],\n",
       "         'id': 4,\n",
       "         'name': 'Thor'}],\n",
       "       'id': 3,\n",
       "       'name': 'Chi'}],\n",
       "     'id': 1,\n",
       "     'name': 'Dunn'},\n",
       "    {'friends': [{'friends': [{...}, {...}, {...}], 'id': 1, 'name': 'Dunn'},\n",
       "      {...},\n",
       "      {'friends': [{...},\n",
       "        {'friends': [{...},\n",
       "          {'friends': [{...},\n",
       "            {'friends': [{...},\n",
       "              {'friends': [{...}, {...}], 'id': 7, 'name': 'Devin'},\n",
       "              {'friends': [{...}], 'id': 9, 'name': 'Klein'}],\n",
       "             'id': 8,\n",
       "             'name': 'Kate'}],\n",
       "           'id': 6,\n",
       "           'name': 'Hicks'},\n",
       "          {'friends': [{...},\n",
       "            {'friends': [{'friends': [{...}, {...}], 'id': 6, 'name': 'Hicks'},\n",
       "              {...},\n",
       "              {'friends': [{...}], 'id': 9, 'name': 'Klein'}],\n",
       "             'id': 8,\n",
       "             'name': 'Kate'}],\n",
       "           'id': 7,\n",
       "           'name': 'Devin'}],\n",
       "         'id': 5,\n",
       "         'name': 'Clive'}],\n",
       "       'id': 4,\n",
       "       'name': 'Thor'}],\n",
       "     'id': 3,\n",
       "     'name': 'Chi'}],\n",
       "   'id': 2,\n",
       "   'name': 'Sue'}],\n",
       " 'id': 0,\n",
       " 'name': 'Hero'}"
      ]
     },
     "execution_count": 16,
     "metadata": {},
     "output_type": "execute_result"
    }
   ],
   "source": [
    "users[0]"
   ]
  },
  {
   "cell_type": "markdown",
   "metadata": {},
   "source": [
    "### Verificando a quantidade de amigos"
   ]
  },
  {
   "cell_type": "code",
   "execution_count": 17,
   "metadata": {
    "collapsed": true
   },
   "outputs": [],
   "source": [
    "def number_of_friends(user):\n",
    "    \"\"\"how many friends does _user_ have?\"\"\"\n",
    "    return len(user[\"friends\"])"
   ]
  },
  {
   "cell_type": "code",
   "execution_count": 18,
   "metadata": {
    "collapsed": false
   },
   "outputs": [
    {
     "data": {
      "text/plain": [
       "2"
      ]
     },
     "execution_count": 18,
     "metadata": {},
     "output_type": "execute_result"
    }
   ],
   "source": [
    "number_of_friends(users[0])"
   ]
  },
  {
   "cell_type": "markdown",
   "metadata": {},
   "source": [
    "### Total de relacionamentos/amizades"
   ]
  },
  {
   "cell_type": "markdown",
   "metadata": {},
   "source": [
    "Podemos fazer uma interção para retornar cada um dos relacionamentos e somar os resultados:"
   ]
  },
  {
   "cell_type": "code",
   "execution_count": 19,
   "metadata": {
    "collapsed": false
   },
   "outputs": [
    {
     "name": "stdout",
     "output_type": "stream",
     "text": [
      "(2, 'Hero')\n",
      "(3, 'Dunn')\n",
      "(3, 'Sue')\n",
      "(3, 'Chi')\n",
      "(2, 'Thor')\n",
      "(3, 'Clive')\n",
      "(2, 'Hicks')\n",
      "(2, 'Devin')\n",
      "(3, 'Kate')\n",
      "(1, 'Klein')\n",
      "total foi 24\n"
     ]
    }
   ],
   "source": [
    "total=0\n",
    "for user in users:\n",
    "    res=number_of_friends(user)\n",
    "    print(res,user['name'])\n",
    "    total=total+res\n",
    "print(\"total foi %d\"%total)"
   ]
  },
  {
   "cell_type": "markdown",
   "metadata": {},
   "source": [
    "#### Aprimorando o código"
   ]
  },
  {
   "cell_type": "markdown",
   "metadata": {},
   "source": [
    "Podemos obter o total de forma mais inteligente usando o recurso de embutir um loop interativo no python fazendo a soma diretamente, passando por todos os valores de users e retornando a soma destes em um objeto generator"
   ]
  },
  {
   "cell_type": "code",
   "execution_count": 20,
   "metadata": {
    "collapsed": false
   },
   "outputs": [
    {
     "name": "stdout",
     "output_type": "stream",
     "text": [
      "<generator object <genexpr> at 0x7ff2a4a5c410>\n"
     ]
    }
   ],
   "source": [
    "objeto_generator=(number_of_friends(user) for user in users)\n",
    "print(objeto_generator)"
   ]
  },
  {
   "cell_type": "markdown",
   "metadata": {},
   "source": [
    "Observer que se acessarmos o objeto temos os valores individuais de soma:"
   ]
  },
  {
   "cell_type": "code",
   "execution_count": 21,
   "metadata": {
    "collapsed": false
   },
   "outputs": [
    {
     "name": "stdout",
     "output_type": "stream",
     "text": [
      "2\n",
      "3\n",
      "3\n",
      "3\n",
      "2\n",
      "3\n",
      "2\n",
      "2\n",
      "3\n",
      "1\n"
     ]
    }
   ],
   "source": [
    "for i in objeto_generator:\n",
    "    print(i)"
   ]
  },
  {
   "cell_type": "markdown",
   "metadata": {},
   "source": [
    "Sendo assim podemos implementar a função sum() para somar os resultados"
   ]
  },
  {
   "cell_type": "code",
   "execution_count": 22,
   "metadata": {
    "collapsed": false
   },
   "outputs": [
    {
     "data": {
      "text/plain": [
       "24"
      ]
     },
     "execution_count": 22,
     "metadata": {},
     "output_type": "execute_result"
    }
   ],
   "source": [
    "objeto_generator=(number_of_friends(user) for user in users)\n",
    "sum(objeto_generator)"
   ]
  },
  {
   "cell_type": "markdown",
   "metadata": {},
   "source": [
    "#### Resumindo podemos utilizar tudo em uma única linha com a função sum e o generator para obter o valor total desejado"
   ]
  },
  {
   "cell_type": "code",
   "execution_count": 23,
   "metadata": {
    "collapsed": true
   },
   "outputs": [],
   "source": [
    "total_connections = sum(number_of_friends(user)\n",
    "                        for user in users)"
   ]
  },
  {
   "cell_type": "code",
   "execution_count": 24,
   "metadata": {
    "collapsed": false
   },
   "outputs": [
    {
     "data": {
      "text/plain": [
       "24"
      ]
     },
     "execution_count": 24,
     "metadata": {},
     "output_type": "execute_result"
    }
   ],
   "source": [
    "total_connections"
   ]
  },
  {
   "cell_type": "markdown",
   "metadata": {},
   "source": [
    "### Obtendo a média de conexoes/relacionamentos"
   ]
  },
  {
   "cell_type": "code",
   "execution_count": 25,
   "metadata": {
    "collapsed": false
   },
   "outputs": [],
   "source": [
    "from __future__ import division \n",
    "#future division evitará problemas de compatibilidade na divisão \n",
    "#future is the missing compatibility layer between Python 2 and Python 3.\n"
   ]
  },
  {
   "cell_type": "code",
   "execution_count": 26,
   "metadata": {
    "collapsed": false
   },
   "outputs": [
    {
     "name": "stdout",
     "output_type": "stream",
     "text": [
      "2.4\n"
     ]
    }
   ],
   "source": [
    "num_users = len(users)\n",
    "avg_connections = total_connections / num_users\n",
    "print(avg_connections)"
   ]
  },
  {
   "cell_type": "markdown",
   "metadata": {},
   "source": [
    "### Contagem de amigos por id e nome"
   ]
  },
  {
   "cell_type": "markdown",
   "metadata": {},
   "source": [
    "Vamos usar novamente o conceito de loop interativo para obter valores de amigos que dos usuarios"
   ]
  },
  {
   "cell_type": "code",
   "execution_count": 27,
   "metadata": {
    "collapsed": false
   },
   "outputs": [
    {
     "data": {
      "text/plain": [
       "[0, 1, 2, 3, 4, 5, 6, 7, 8, 9]"
      ]
     },
     "execution_count": 27,
     "metadata": {},
     "output_type": "execute_result"
    }
   ],
   "source": [
    "[user['id'] for user in users]"
   ]
  },
  {
   "cell_type": "code",
   "execution_count": 28,
   "metadata": {
    "collapsed": true
   },
   "outputs": [],
   "source": [
    "num_friends_by_id = [(user[\"id\"], number_of_friends(user))\n",
    "for user in users]"
   ]
  },
  {
   "cell_type": "code",
   "execution_count": 29,
   "metadata": {
    "collapsed": false
   },
   "outputs": [
    {
     "data": {
      "text/plain": [
       "[(0, 2),\n",
       " (1, 3),\n",
       " (2, 3),\n",
       " (3, 3),\n",
       " (4, 2),\n",
       " (5, 3),\n",
       " (6, 2),\n",
       " (7, 2),\n",
       " (8, 3),\n",
       " (9, 1)]"
      ]
     },
     "execution_count": 29,
     "metadata": {},
     "output_type": "execute_result"
    }
   ],
   "source": [
    "num_friends_by_id"
   ]
  },
  {
   "cell_type": "code",
   "execution_count": 30,
   "metadata": {
    "collapsed": true
   },
   "outputs": [],
   "source": [
    "num_friends_by_name = [(user[\"name\"], number_of_friends(user))\n",
    "for user in users]"
   ]
  },
  {
   "cell_type": "code",
   "execution_count": 31,
   "metadata": {
    "collapsed": false
   },
   "outputs": [
    {
     "data": {
      "text/plain": [
       "[('Hero', 2),\n",
       " ('Dunn', 3),\n",
       " ('Sue', 3),\n",
       " ('Chi', 3),\n",
       " ('Thor', 2),\n",
       " ('Clive', 3),\n",
       " ('Hicks', 2),\n",
       " ('Devin', 2),\n",
       " ('Kate', 3),\n",
       " ('Klein', 1)]"
      ]
     },
     "execution_count": 31,
     "metadata": {},
     "output_type": "execute_result"
    }
   ],
   "source": [
    "num_friends_by_name"
   ]
  },
  {
   "cell_type": "markdown",
   "metadata": {},
   "source": [
    "### Ordenando por usuarios que possuem mais amigos"
   ]
  },
  {
   "cell_type": "markdown",
   "metadata": {},
   "source": [
    "Vamos usar a funcao sorted() para ordenar os resultados obtidos por maior quantidade de relacinamentos/conexões"
   ]
  },
  {
   "cell_type": "code",
   "execution_count": 32,
   "metadata": {
    "collapsed": false
   },
   "outputs": [
    {
     "data": {
      "text/plain": [
       "[('Dunn', 3),\n",
       " ('Sue', 3),\n",
       " ('Chi', 3),\n",
       " ('Clive', 3),\n",
       " ('Kate', 3),\n",
       " ('Hero', 2),\n",
       " ('Thor', 2),\n",
       " ('Hicks', 2),\n",
       " ('Devin', 2),\n",
       " ('Klein', 1)]"
      ]
     },
     "execution_count": 32,
     "metadata": {},
     "output_type": "execute_result"
    }
   ],
   "source": [
    "sorted(num_friends_by_name, #objeto analisado na interação\n",
    "       key=lambda (p1,p2): #chave lambda e conjunto variaves que representam elementos\n",
    "       p2, # parametro de ordenacao\n",
    "       reverse=True) #opcional reverse"
   ]
  },
  {
   "cell_type": "markdown",
   "metadata": {},
   "source": [
    "OBS: \n",
    "<br> o sort em lambda pode ser utilizado para ordenar com base em inúmero elemento/caracterísitcas. No exemplo abaixo temos os valores de 4 caracteristicas diferentes respresentados por 'a,b,c,d' e ordenados por 'a,c'(ou seja ordenados primeiramente pela coluna/caracteristica 'a' e posteriormente por 'b'."
   ]
  },
  {
   "cell_type": "code",
   "execution_count": 33,
   "metadata": {
    "collapsed": false
   },
   "outputs": [
    {
     "data": {
      "text/plain": [
       "[(4, 6, 2, 1), (4, 5, 3, 4), (1, 8, 2, 1), (1, 7, 4, 3)]"
      ]
     },
     "execution_count": 33,
     "metadata": {},
     "output_type": "execute_result"
    }
   ],
   "source": [
    "values = [(4,5,3,4),(4,6,2,1),(1,7,4,3),(1,8,2,1)]\n",
    "sorted (values, key=lambda(a,b,c,d): (a,b), reverse=True)"
   ]
  },
  {
   "cell_type": "markdown",
   "metadata": {},
   "source": [
    "### Conhecendo os amigos dos amingo"
   ]
  },
  {
   "cell_type": "code",
   "execution_count": 34,
   "metadata": {
    "collapsed": true
   },
   "outputs": [],
   "source": [
    "def obter_amigos(usuario):\n",
    "    # \"foaf\" is short for \"friend of a friend\"\n",
    "    return [amigo[\"id\"] for amigo in usuario[\"friends\"]]    "
   ]
  },
  {
   "cell_type": "code",
   "execution_count": 35,
   "metadata": {
    "collapsed": true
   },
   "outputs": [],
   "source": [
    "def obter_amigos_dos_amigos (usuario):\n",
    "    # \"foaf\" is short for \"friend of a friend\"\n",
    "    return [amigo_de_amigo[\"id\"] for amigo in usuario[\"friends\"]     \n",
    "            # for each of user's friends\n",
    "            for amigo_de_amigo in amigo[\"friends\"]]    "
   ]
  },
  {
   "cell_type": "code",
   "execution_count": 36,
   "metadata": {
    "collapsed": false
   },
   "outputs": [
    {
     "name": "stdout",
     "output_type": "stream",
     "text": [
      "Amigos [1, 2]\n",
      "Amigos dos amigos [0, 2, 3, 0, 1, 3]\n"
     ]
    }
   ],
   "source": [
    "user = users[0]\n",
    "\n",
    "print(\"Amigos %s\"%(obter_amigos(user)))\n",
    "print(\"Amigos dos amigos %s\"%(obter_amigos_dos_amigos(user)))\n"
   ]
  },
  {
   "cell_type": "markdown",
   "metadata": {},
   "source": [
    "### Observe a interção de um loop dentro do outro quando obtemos os amigos de amigo"
   ]
  },
  {
   "cell_type": "code",
   "execution_count": 37,
   "metadata": {
    "collapsed": false
   },
   "outputs": [
    {
     "name": "stdout",
     "output_type": "stream",
     "text": [
      "1\n",
      "2\n"
     ]
    }
   ],
   "source": [
    "amigos=(amigos for amigos in user[\"friends\"])\n",
    "for i in amigos:\n",
    "    print(i['id'])"
   ]
  },
  {
   "cell_type": "code",
   "execution_count": 38,
   "metadata": {
    "collapsed": false
   },
   "outputs": [
    {
     "name": "stdout",
     "output_type": "stream",
     "text": [
      "[0, 2, 3, 0, 1, 3]\n"
     ]
    }
   ],
   "source": [
    "amigos_de_amigos=[amigos_de_amigo['id'] \n",
    "   for amigos in user[\"friends\"] \n",
    "   for amigos_de_amigo in amigos[\"friends\"]]\n",
    "print(amigos_de_amigos)"
   ]
  },
  {
   "cell_type": "markdown",
   "metadata": {},
   "source": [
    "Entre os vários documentos usados para referenciar este capitulo estudado temos:\n",
    "<br>[Future] [1] \n",
    "<br>[Functional Programming HOWTO] [2] or [Dicionario] [3].\n",
    "\n",
    "  [1]: https://pypi.python.org/pypi/future        \"Future\"\n",
    "  [2]: https://docs.python.org/2.7/howto/functional.html?highlight=lambda  \"Functional Programming HOWTO\"\n",
    "  [3]: http://www3.ifrn.edu.br/~jurandy/fdp/doc/aprenda-python/capitulo_10.html#matrizes-esparsas    \"Dicionario\""
   ]
  },
  {
   "cell_type": "code",
   "execution_count": null,
   "metadata": {
    "collapsed": true
   },
   "outputs": [],
   "source": []
  }
 ],
 "metadata": {
  "kernelspec": {
   "display_name": "Python 2",
   "language": "python",
   "name": "python2"
  },
  "language_info": {
   "codemirror_mode": {
    "name": "ipython",
    "version": 2
   },
   "file_extension": ".py",
   "mimetype": "text/x-python",
   "name": "python",
   "nbconvert_exporter": "python",
   "pygments_lexer": "ipython2",
   "version": "2.7.12"
  }
 },
 "nbformat": 4,
 "nbformat_minor": 1
}
