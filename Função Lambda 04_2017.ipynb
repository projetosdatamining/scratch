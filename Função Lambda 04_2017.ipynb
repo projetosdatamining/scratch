{
 "cells": [
  {
   "cell_type": "markdown",
   "metadata": {},
   "source": [
    "# Entendendo e Aplicando Funcão Lambda "
   ]
  },
  {
   "cell_type": "markdown",
   "metadata": {},
   "source": [
    "#### Python suporta funções que não são associadas a um nome em tempo de execução, utilizando um conceito chamado \"Lambda\"."
   ]
  },
  {
   "cell_type": "markdown",
   "metadata": {},
   "source": [
    "### Criando valores para testes"
   ]
  },
  {
   "cell_type": "code",
   "execution_count": 1,
   "metadata": {
    "collapsed": true
   },
   "outputs": [],
   "source": [
    "valor=10"
   ]
  },
  {
   "cell_type": "code",
   "execution_count": 2,
   "metadata": {
    "collapsed": true
   },
   "outputs": [],
   "source": [
    "minhaLista = [-2,8,10,0]"
   ]
  },
  {
   "cell_type": "markdown",
   "metadata": {},
   "source": [
    "### Criando uma função  que soma o número dez a uma lista de valores repassados"
   ]
  },
  {
   "cell_type": "markdown",
   "metadata": {},
   "source": [
    "Observe que lambda cria uma funcao generica sem nome associado. Mas se necessário podemos associar a uma variavel e teremos o resultado embutido por meio desta variavel"
   ]
  },
  {
   "cell_type": "code",
   "execution_count": 3,
   "metadata": {
    "collapsed": false
   },
   "outputs": [
    {
     "data": {
      "text/plain": [
       "20"
      ]
     },
     "execution_count": 3,
     "metadata": {},
     "output_type": "execute_result"
    }
   ],
   "source": [
    "f = lambda x:x+10\n",
    "f(valor)"
   ]
  },
  {
   "cell_type": "markdown",
   "metadata": {},
   "source": [
    "Trabalhando com lambda e listas"
   ]
  },
  {
   "cell_type": "code",
   "execution_count": 4,
   "metadata": {
    "collapsed": false
   },
   "outputs": [
    {
     "data": {
      "text/plain": [
       "[8, 18, 20, 10]"
      ]
     },
     "execution_count": 4,
     "metadata": {},
     "output_type": "execute_result"
    }
   ],
   "source": [
    "[(lambda x: x+10)(x) for x in minhaLista]"
   ]
  },
  {
   "cell_type": "markdown",
   "metadata": {},
   "source": [
    "#### Outra forma é utilizando map que será explicado mais a frente"
   ]
  },
  {
   "cell_type": "code",
   "execution_count": 5,
   "metadata": {
    "collapsed": false
   },
   "outputs": [
    {
     "data": {
      "text/plain": [
       "[8, 18, 20, 10]"
      ]
     },
     "execution_count": 5,
     "metadata": {},
     "output_type": "execute_result"
    }
   ],
   "source": [
    "map(lambda x:x+10,minhaLista)"
   ]
  },
  {
   "cell_type": "markdown",
   "metadata": {},
   "source": [
    "### Criando uma funcao que tem lambda internamente usado para criar novas funcoes"
   ]
  },
  {
   "cell_type": "markdown",
   "metadata": {},
   "source": [
    "Isto será util quando quisermos criar uma funcao em tempo de execucao que depende de parametros repassados por um dado processamento anterior"
   ]
  },
  {
   "cell_type": "code",
   "execution_count": 6,
   "metadata": {
    "collapsed": true
   },
   "outputs": [],
   "source": [
    "def incrementador_parametrizado(incremento):\n",
    "    return lambda x: x + incremento"
   ]
  },
  {
   "cell_type": "code",
   "execution_count": 7,
   "metadata": {
    "collapsed": false
   },
   "outputs": [
    {
     "data": {
      "text/plain": [
       "12"
      ]
     },
     "execution_count": 7,
     "metadata": {},
     "output_type": "execute_result"
    }
   ],
   "source": [
    "minha_funcao_inc_2 = incrementador_parametrizado(2)\n",
    "minha_funcao_inc_2(10)"
   ]
  },
  {
   "cell_type": "code",
   "execution_count": 8,
   "metadata": {
    "collapsed": false
   },
   "outputs": [
    {
     "data": {
      "text/plain": [
       "22"
      ]
     },
     "execution_count": 8,
     "metadata": {},
     "output_type": "execute_result"
    }
   ],
   "source": [
    "minha_funcao_inc_12=incrementador_parametrizado(12)\n",
    "minha_funcao_inc_12(10)"
   ]
  },
  {
   "cell_type": "markdown",
   "metadata": {},
   "source": [
    "## Funcoes Lambda como filter, map e reduce"
   ]
  },
  {
   "cell_type": "code",
   "execution_count": 9,
   "metadata": {
    "collapsed": false
   },
   "outputs": [],
   "source": [
    "minhaLista2 =[-2, 8, 10, 0, 3, 5, 7]"
   ]
  },
  {
   "cell_type": "markdown",
   "metadata": {},
   "source": [
    "### Lambda com Filter"
   ]
  },
  {
   "cell_type": "markdown",
   "metadata": {},
   "source": [
    "#### Filtrar os valores onde x maior que 5"
   ]
  },
  {
   "cell_type": "code",
   "execution_count": 10,
   "metadata": {
    "collapsed": false
   },
   "outputs": [
    {
     "name": "stdout",
     "output_type": "stream",
     "text": [
      "[8, 10, 7]\n"
     ]
    }
   ],
   "source": [
    "print(filter(lambda x:x>5,minhaLista2))"
   ]
  },
  {
   "cell_type": "markdown",
   "metadata": {},
   "source": [
    "#### Filtrar os valores onde x é divisivel por 2"
   ]
  },
  {
   "cell_type": "markdown",
   "metadata": {},
   "source": [
    "Observe que a funcao lambda retornara os resultados validos como sendo aqueles que retornam true (ou 1). Por isso devemos fazer x%2==0 (pois quando ocorre a divisão e temos mod igual a zero o número é divisivel por 2)."
   ]
  },
  {
   "cell_type": "code",
   "execution_count": 11,
   "metadata": {
    "collapsed": false
   },
   "outputs": [
    {
     "data": {
      "text/plain": [
       "[-2, 8, 10, 0]"
      ]
     },
     "execution_count": 11,
     "metadata": {},
     "output_type": "execute_result"
    }
   ],
   "source": [
    "filter(lambda x:x%2==0,minhaLista2)"
   ]
  },
  {
   "cell_type": "markdown",
   "metadata": {},
   "source": [
    "#### Filtrar os valores onde x nao é divisivel por 2 "
   ]
  },
  {
   "cell_type": "markdown",
   "metadata": {},
   "source": [
    "(aqui temos uma particularidade interessante pois a funcao mod (%) retorna zero (0) onde for divisivel por dois. Como 0 representa false, somente onde não for divisivel por 2 e que teremos o resultado de filter."
   ]
  },
  {
   "cell_type": "code",
   "execution_count": 12,
   "metadata": {
    "collapsed": false
   },
   "outputs": [
    {
     "data": {
      "text/plain": [
       "[3, 5, 7]"
      ]
     },
     "execution_count": 12,
     "metadata": {},
     "output_type": "execute_result"
    }
   ],
   "source": [
    "filter(lambda x:x%2,minhaLista2)"
   ]
  },
  {
   "cell_type": "markdown",
   "metadata": {},
   "source": [
    "#### obtendo números impares"
   ]
  },
  {
   "cell_type": "code",
   "execution_count": 13,
   "metadata": {
    "collapsed": false
   },
   "outputs": [
    {
     "data": {
      "text/plain": [
       "2"
      ]
     },
     "execution_count": 13,
     "metadata": {},
     "output_type": "execute_result"
    }
   ],
   "source": [
    "2%10"
   ]
  },
  {
   "cell_type": "markdown",
   "metadata": {},
   "source": [
    "Explicando a funcão:  o loop 'for' criará várias funcoes semelhantes as observadas abaixo para cada valor de i no intervalo range. Suponha que tenhamos range(2,5) gerariamos as seguintes funções:"
   ]
  },
  {
   "cell_type": "code",
   "execution_count": 14,
   "metadata": {
    "collapsed": true
   },
   "outputs": [],
   "source": [
    "f2=lambda x: x == 2 or x % 2\n",
    "f3=lambda x: x == 3 or x % 3\n",
    "f4=lambda x: x == 4 or x % 4\n",
    "f5=lambda x: x == 5 or x % 5\n",
    "f6=lambda x: x == 6 or x % 6"
   ]
  },
  {
   "cell_type": "markdown",
   "metadata": {},
   "source": [
    "Se utilizarmos cada uma das funcoes com valores independentes em um loop de 2 a 6 teriamos o seguinte:"
   ]
  },
  {
   "cell_type": "code",
   "execution_count": 15,
   "metadata": {
    "collapsed": false
   },
   "outputs": [
    {
     "name": "stdout",
     "output_type": "stream",
     "text": [
      "funcoes 2 a 5 de valor 2\n",
      "True\n",
      "2\n",
      "2\n",
      "2\n",
      "2\n",
      "============\n",
      "funcoes 2 a 5 de valor 3\n",
      "1\n",
      "True\n",
      "3\n",
      "3\n",
      "3\n",
      "============\n",
      "funcoes 2 a 5 de valor 4\n",
      "0\n",
      "1\n",
      "True\n",
      "4\n",
      "4\n",
      "============\n",
      "funcoes 2 a 5 de valor 5\n",
      "1\n",
      "2\n",
      "1\n",
      "True\n",
      "5\n",
      "============\n",
      "funcoes 2 a 5 de valor 5\n",
      "0\n",
      "0\n",
      "2\n",
      "1\n",
      "True\n"
     ]
    }
   ],
   "source": [
    "print('funcoes 2 a 5 de valor 2')\n",
    "print(f2(2))\n",
    "print(f3(2))\n",
    "print(f4(2))\n",
    "print(f5(2))\n",
    "print(f6(2))\n",
    "print (\"============\")\n",
    "\n",
    "print('funcoes 2 a 5 de valor 3')\n",
    "print(f2(3))\n",
    "print(f3(3))\n",
    "print(f4(3))\n",
    "print(f5(3))\n",
    "print(f6(3))\n",
    "print (\"============\")\n",
    "\n",
    "print('funcoes 2 a 5 de valor 4')\n",
    "print(f2(4))\n",
    "print(f3(4))\n",
    "print(f4(4))\n",
    "print(f5(4))\n",
    "print(f6(4))\n",
    "print (\"============\")\n",
    "\n",
    "print('funcoes 2 a 5 de valor 5')\n",
    "print(f2(5))\n",
    "print(f3(5))\n",
    "print(f4(5))\n",
    "print(f5(5))\n",
    "print(f6(5))\n",
    "\n",
    "print (\"============\")\n",
    "\n",
    "print('funcoes 2 a 5 de valor 5')\n",
    "print(f2(6))\n",
    "print(f3(6))\n",
    "print(f4(6))\n",
    "print(f5(6))\n",
    "print(f6(6))"
   ]
  },
  {
   "cell_type": "markdown",
   "metadata": {},
   "source": [
    "observe que toda vez que aparecer valor =  true significa que o número apresentado é divisível pelo seu proprio valor. Entretanto caso o zero apareca antes do true, a funcao é quebrada pois obteve valor zero"
   ]
  },
  {
   "cell_type": "code",
   "execution_count": 16,
   "metadata": {
    "collapsed": false
   },
   "outputs": [
    {
     "name": "stdout",
     "output_type": "stream",
     "text": [
      "[2, 3, 5]\n"
     ]
    }
   ],
   "source": [
    "nums = range(2, 7) \n",
    "for i in range(2, 6): \n",
    "     nums = filter(lambda x: x == i or x % i, nums)\n",
    "print nums\n"
   ]
  },
  {
   "cell_type": "code",
   "execution_count": 17,
   "metadata": {
    "collapsed": false
   },
   "outputs": [
    {
     "data": {
      "text/plain": [
       "[1]"
      ]
     },
     "execution_count": 17,
     "metadata": {},
     "output_type": "execute_result"
    }
   ],
   "source": [
    "filter(lambda x:x, [1,0])"
   ]
  },
  {
   "cell_type": "markdown",
   "metadata": {},
   "source": [
    "Observe então que utilizando filter somente quando houver valor 'True' retornado é que não aparece o zero anteriormente é que o valor será repassado "
   ]
  },
  {
   "cell_type": "code",
   "execution_count": 18,
   "metadata": {
    "collapsed": false
   },
   "outputs": [
    {
     "name": "stdout",
     "output_type": "stream",
     "text": [
      "('igual', 0)\n",
      "('igual', 1)\n",
      "2\n",
      "('igual', 2)\n",
      "3\n",
      "3\n",
      "('igual', 3)\n",
      "4\n",
      "4\n",
      "4\n",
      "5\n",
      "5\n",
      "5\n",
      "6\n",
      "6\n",
      "6\n",
      "7\n",
      "7\n",
      "7\n",
      "8\n",
      "8\n",
      "8\n",
      "9\n",
      "9\n",
      "9\n",
      "10\n",
      "10\n",
      "10\n",
      "11\n",
      "11\n",
      "11\n",
      "12\n",
      "12\n",
      "12\n",
      "13\n",
      "13\n",
      "13\n",
      "14\n",
      "14\n",
      "14\n",
      "15\n",
      "15\n",
      "15\n"
     ]
    }
   ],
   "source": [
    "for i in range(16):\n",
    "    for y in range(4):\n",
    "        if y==i:\n",
    "            print('igual',i)\n",
    "            break\n",
    "        #elif (y%i)==0:\n",
    "        #    print('zero',i)\n",
    "        #    #break\n",
    "        elif (y%i)<>0:\n",
    "            print(i)\n",
    "            "
   ]
  },
  {
   "cell_type": "code",
   "execution_count": 19,
   "metadata": {
    "collapsed": false
   },
   "outputs": [
    {
     "data": {
      "text/plain": [
       "[1, 2, 3, 4]"
      ]
     },
     "execution_count": 19,
     "metadata": {},
     "output_type": "execute_result"
    }
   ],
   "source": [
    "i=3\n",
    "res=filter(lambda x:x==i or x%i,[1,2,3,4])\n",
    "res"
   ]
  },
  {
   "cell_type": "code",
   "execution_count": 20,
   "metadata": {
    "collapsed": false
   },
   "outputs": [
    {
     "data": {
      "text/plain": [
       "[2, 3, 5, 7, 11, 13]"
      ]
     },
     "execution_count": 20,
     "metadata": {},
     "output_type": "execute_result"
    }
   ],
   "source": [
    "lista = range(2,17)\n",
    "for i in range(2,5):\n",
    "    lista=filter(lambda x:x==i or x%i, lista)\n",
    "    #if not((lista[i]==i) or (lista[i]%i)):\n",
    "    #    print(i)\n",
    "lista"
   ]
  },
  {
   "cell_type": "markdown",
   "metadata": {},
   "source": [
    "### Lambda com Map"
   ]
  },
  {
   "cell_type": "markdown",
   "metadata": {},
   "source": [
    "#### Map aplica uma funcão a todos os itens de uma lista de entrada"
   ]
  },
  {
   "cell_type": "markdown",
   "metadata": {},
   "source": [
    "Frequentemente desejamos passar um todos os elementos por uma função e coletar ao final o resultado como abaixo"
   ]
  },
  {
   "cell_type": "code",
   "execution_count": 21,
   "metadata": {
    "collapsed": false
   },
   "outputs": [
    {
     "name": "stdout",
     "output_type": "stream",
     "text": [
      "[4, 64, 100, 0]\n"
     ]
    }
   ],
   "source": [
    "minhaLista = [-2, 8, 10, 0]\n",
    "squared = []\n",
    "for i in minhaLista:\n",
    "    squared.append(i**2)\n",
    "print(squared)"
   ]
  },
  {
   "cell_type": "markdown",
   "metadata": {},
   "source": [
    "Podemos fazer isso mais rapidamente com uso da funcao map e lambda"
   ]
  },
  {
   "cell_type": "code",
   "execution_count": 22,
   "metadata": {
    "collapsed": false
   },
   "outputs": [
    {
     "data": {
      "text/plain": [
       "[4, 64, 100, 0]"
      ]
     },
     "execution_count": 22,
     "metadata": {},
     "output_type": "execute_result"
    }
   ],
   "source": [
    "map(lambda x:x**2,minhaLista)"
   ]
  },
  {
   "cell_type": "markdown",
   "metadata": {},
   "source": [
    "Observe que temos os mesmos resultados com apenas uma linha de código!"
   ]
  },
  {
   "cell_type": "markdown",
   "metadata": {},
   "source": [
    "Neste caso utilizamos portando lambda como sendo uma funcao para o mapeamento de um dado conjunto inicial resultando em outro conjunto final. Segue outro exemplo abaixo."
   ]
  },
  {
   "cell_type": "code",
   "execution_count": 23,
   "metadata": {
    "collapsed": false
   },
   "outputs": [
    {
     "data": {
      "text/plain": [
       "[13, 23, 25, 15, 18, 20, 22]"
      ]
     },
     "execution_count": 23,
     "metadata": {},
     "output_type": "execute_result"
    }
   ],
   "source": [
    "map(lambda x:x+15,minhaLista2)"
   ]
  },
  {
   "cell_type": "markdown",
   "metadata": {},
   "source": [
    "### Ampliando as possibilidades com map"
   ]
  },
  {
   "cell_type": "markdown",
   "metadata": {},
   "source": [
    "Partindo para um contexto mais interessante, podemos usar o mapeamento para um conjunto de funcoes (lista de funcoes) ao inves de um conjunto de dados (lista de dados) "
   ]
  },
  {
   "cell_type": "code",
   "execution_count": 24,
   "metadata": {
    "collapsed": false
   },
   "outputs": [
    {
     "name": "stdout",
     "output_type": "stream",
     "text": [
      "[1, 1, 11, 11]\n",
      "[4, 8, 12, 14]\n",
      "[9, 27, 13, 19]\n",
      "[16, 64, 14, 26]\n"
     ]
    }
   ],
   "source": [
    "numero1=10\n",
    "numero2 =1\n",
    "def eleva_quadrado (numero):\n",
    "    return numero*numero\n",
    "def eleva_cubo (numero):\n",
    "    return numero*numero*numero\n",
    "def soma_10(numero):\n",
    "    return numero+10\n",
    "def seg_grau(numero):\n",
    "    return pow(numero,2)+10\n",
    "    \n",
    "\n",
    "funcoes=[eleva_quadrado,eleva_cubo,soma_10,seg_grau]\n",
    "\n",
    "for i in range(1,5):\n",
    "    #calcula resultado para cada funcao\n",
    "    res = (map(lambda x:x(i),funcoes))\n",
    "    print(res)"
   ]
  },
  {
   "cell_type": "markdown",
   "metadata": {},
   "source": [
    "É possível ainda, encadear funcoes recebidas e executar procedimentos mais avancados. Vamos criar agora um segundo conjuntos de funcoes que receberá o resultado das primeiras e criará em tempo de execucao os graficos resultantes"
   ]
  },
  {
   "cell_type": "code",
   "execution_count": 25,
   "metadata": {
    "collapsed": false
   },
   "outputs": [],
   "source": [
    "import matplotlib.pyplot as plt\n",
    "%matplotlib inline\n",
    "def grafico1(lista_dados):\n",
    "    plt.plot(lista_dados)\n",
    "    plt.figure()\n",
    "\n",
    "def grafico2(lista_dados):\n",
    "    plt.pie(lista_dados)\n",
    "    plt.legend(lista_dados)\n",
    "    plt.figure()"
   ]
  },
  {
   "cell_type": "markdown",
   "metadata": {},
   "source": [
    "Agora vamos pegar o resultado obtido no mapeamento das primeiras funcoes e usar como resultado para as funcoes dos graficos que desejamos. Observe que obteremos nossos gráficos em tempo de execucao para cada conjunto de valores desejado."
   ]
  },
  {
   "cell_type": "code",
   "execution_count": 26,
   "metadata": {
    "collapsed": false
   },
   "outputs": [
    {
     "name": "stdout",
     "output_type": "stream",
     "text": [
      "Antes insert [1, 1, 11, 11]\n",
      "Apos insert [1, 1, 1, 11, 11]\n",
      "Antes insert [4, 8, 12, 14]\n",
      "Apos insert [2, 4, 8, 12, 14]\n",
      "Antes insert [9, 27, 13, 19]\n",
      "Apos insert [3, 9, 27, 13, 19]\n"
     ]
    },
    {
     "data": {
      "image/png": "[encoded data removed]",
      "text/plain": [
       "<matplotlib.figure.Figure at 0x7fc2fa68e0d0>"
      ]
     },
     "metadata": {},
     "output_type": "display_data"
    },
    {
     "data": {
      "image/png": "[encoded data removed]",
      "text/plain": [
       "<matplotlib.figure.Figure at 0x7fc2c040c450>"
      ]
     },
     "metadata": {},
     "output_type": "display_data"
    },
    {
     "data": {
      "image/png": "[encoded data removed]",
      "text/plain": [
       "<matplotlib.figure.Figure at 0x7fc2c02d5090>"
      ]
     },
     "metadata": {},
     "output_type": "display_data"
    },
    {
     "data": {
      "image/png": "[encoded data removed]",
      "text/plain": [
       "<matplotlib.figure.Figure at 0x7fc2c0262ad0>"
      ]
     },
     "metadata": {},
     "output_type": "display_data"
    },
    {
     "data": {
      "image/png": "[encoded data removed]",
      "text/plain": [
       "<matplotlib.figure.Figure at 0x7fc2c01933d0>"
      ]
     },
     "metadata": {},
     "output_type": "display_data"
    },
    {
     "data": {
      "image/png": "[encoded data removed]",
      "text/plain": [
       "<matplotlib.figure.Figure at 0x7fc2c0113d50>"
      ]
     },
     "metadata": {},
     "output_type": "display_data"
    },
    {
     "data": {
      "text/plain": [
       "<matplotlib.figure.Figure at 0x7fc2c0058990>"
      ]
     },
     "metadata": {},
     "output_type": "display_data"
    }
   ],
   "source": [
    "funcoes=[eleva_quadrado,eleva_cubo,soma_10,seg_grau]\n",
    "funcoes2=[grafico1,grafico2]\n",
    "\n",
    "for i in range(1,4):\n",
    "    #calcula resultado para cada funcao\n",
    "    res = list((map(lambda x:x(i),funcoes)))\n",
    "    print(\"Antes insert %s\"%res)\n",
    "    res.insert(0,i) #insere na primeira do vetor o valor de 'i' em execucão\n",
    "    print(\"Apos insert %s\"%res)\n",
    "    \n",
    "    grafic = (map(lambda x:x(res),funcoes2))\n"
   ]
  },
  {
   "cell_type": "markdown",
   "metadata": {},
   "source": [
    "### Usando lambda no próprio lambda para gerar valores de funcao de segundo grau (seg_grau)"
   ]
  },
  {
   "cell_type": "markdown",
   "metadata": {},
   "source": [
    "#### Primeiro vamos aplicar a funcao range para gerar uma lista de valores "
   ]
  },
  {
   "cell_type": "markdown",
   "metadata": {},
   "source": [
    "> logicamente poderiamos fazer isto simplismente com range(-5,6), mas este não é o propósito aqui!"
   ]
  },
  {
   "cell_type": "code",
   "execution_count": 27,
   "metadata": {
    "collapsed": false
   },
   "outputs": [
    {
     "data": {
      "text/plain": [
       "[-5, -4, -3, -2, -1, 0, 1, 2, 3, 4, 5]"
      ]
     },
     "execution_count": 27,
     "metadata": {},
     "output_type": "execute_result"
    }
   ],
   "source": [
    "map(lambda y:y,range(-5,6))"
   ]
  },
  {
   "cell_type": "markdown",
   "metadata": {},
   "source": [
    "observe que podemos aplicar este resultado na funcao seg_grau como segue abaixo"
   ]
  },
  {
   "cell_type": "code",
   "execution_count": 28,
   "metadata": {
    "collapsed": false
   },
   "outputs": [
    {
     "data": {
      "text/plain": [
       "[35, 26, 19, 14, 11, 10, 11, 14, 19, 26, 35]"
      ]
     },
     "execution_count": 28,
     "metadata": {},
     "output_type": "execute_result"
    }
   ],
   "source": [
    "resultado=map(lambda x:seg_grau(x),[-5, -4, -3, -2, -1, 0, 1, 2, 3, 4, 5])\n",
    "resultado"
   ]
  },
  {
   "cell_type": "markdown",
   "metadata": {},
   "source": [
    "Vamos encadear as funcoes lambda para vermos o resultado"
   ]
  },
  {
   "cell_type": "code",
   "execution_count": 29,
   "metadata": {
    "collapsed": false
   },
   "outputs": [
    {
     "name": "stdout",
     "output_type": "stream",
     "text": [
      "[35, 26, 19, 14, 11, 10, 11, 14, 19, 26, 35]\n"
     ]
    }
   ],
   "source": [
    "result=list(map(\n",
    "                lambda x:seg_grau(x),\n",
    "                        map(\n",
    "                            lambda y:y,\n",
    "                            range(-5,6)\n",
    "                            )\n",
    "               )\n",
    "           )\n",
    "print(result)    "
   ]
  },
  {
   "cell_type": "markdown",
   "metadata": {},
   "source": [
    "observe ainda que podemos melhorar o algoritmo simplesmente adicionando range diretamente no lambda"
   ]
  },
  {
   "cell_type": "code",
   "execution_count": 30,
   "metadata": {
    "collapsed": false
   },
   "outputs": [
    {
     "data": {
      "text/plain": [
       "[35, 26, 19, 14, 11, 10, 11, 14, 19, 26, 35]"
      ]
     },
     "execution_count": 30,
     "metadata": {},
     "output_type": "execute_result"
    }
   ],
   "source": [
    "resultado=map(lambda x:seg_grau(x),range(-5,6))\n",
    "resultado"
   ]
  },
  {
   "cell_type": "markdown",
   "metadata": {},
   "source": [
    "podemos inclusive usar lambda para criar nossa propria funcao de gerador de números simetricos rapidamente"
   ]
  },
  {
   "cell_type": "code",
   "execution_count": 31,
   "metadata": {
    "collapsed": false
   },
   "outputs": [
    {
     "data": {
      "text/plain": [
       "[-5, -4, -3, -2, -1, 0, 1, 2, 3, 4, 5]"
      ]
     },
     "execution_count": 31,
     "metadata": {},
     "output_type": "execute_result"
    }
   ],
   "source": [
    "gerador_simetrico=lambda x:range(-x,x+1)\n",
    "gerador_simetrico(5)"
   ]
  },
  {
   "cell_type": "markdown",
   "metadata": {},
   "source": [
    "agora podemos usar map para passar nosso gerador simetrico juntamente com a funcao de grafico para gerar o resultado pretendido"
   ]
  },
  {
   "cell_type": "code",
   "execution_count": 32,
   "metadata": {
    "collapsed": false
   },
   "outputs": [
    {
     "data": {
      "image/png": "[encoded data removed]",
      "text/plain": [
       "<matplotlib.figure.Figure at 0x7fc2c2461590>"
      ]
     },
     "metadata": {},
     "output_type": "display_data"
    },
    {
     "data": {
      "text/plain": [
       "<matplotlib.figure.Figure at 0x7fc2bfe6b790>"
      ]
     },
     "metadata": {},
     "output_type": "display_data"
    }
   ],
   "source": [
    "grafico1(map(seg_grau,gerador_simetrico(5)))"
   ]
  },
  {
   "cell_type": "markdown",
   "metadata": {},
   "source": [
    "#### Observe ainda que podemos passar para map um conjunto de gráficos que queremos gerar"
   ]
  },
  {
   "cell_type": "code",
   "execution_count": 33,
   "metadata": {
    "collapsed": false
   },
   "outputs": [
    {
     "data": {
      "text/plain": [
       "[None, None]"
      ]
     },
     "execution_count": 33,
     "metadata": {},
     "output_type": "execute_result"
    },
    {
     "data": {
      "image/png": "[encoded data removed]",
      "text/plain": [
       "<matplotlib.figure.Figure at 0x7fc2bfeddc90>"
      ]
     },
     "metadata": {},
     "output_type": "display_data"
    },
    {
     "data": {
      "image/png": "[encoded data removed]",
      "text/plain": [
       "<matplotlib.figure.Figure at 0x7fc2bff512d0>"
      ]
     },
     "metadata": {},
     "output_type": "display_data"
    },
    {
     "data": {
      "text/plain": [
       "<matplotlib.figure.Figure at 0x7fc2bfeac210>"
      ]
     },
     "metadata": {},
     "output_type": "display_data"
    }
   ],
   "source": [
    "gerador_graficos=[grafico1,grafico2]\n",
    "map(lambda grafico:grafico(map(seg_grau,gerador_simetrico(5)))\n",
    "    ,gerador_graficos)\n"
   ]
  },
  {
   "cell_type": "markdown",
   "metadata": {},
   "source": [
    "#### Resumindo temos:"
   ]
  },
  {
   "cell_type": "markdown",
   "metadata": {
    "collapsed": false
   },
   "source": [
    "    map(\n",
    "        lambda variavel:variavel(\n",
    "                    map(\n",
    "                        pow(numero,2)+10,\n",
    "                        lambda x:range(-x,x+1)\n",
    "                   )\n",
    "            )\n",
    "        ,lista_de_graficos)"
   ]
  },
  {
   "cell_type": "markdown",
   "metadata": {},
   "source": [
    "Manualmente teriamos que fazer o seguinte codigo"
   ]
  },
  {
   "cell_type": "code",
   "execution_count": 34,
   "metadata": {
    "collapsed": false
   },
   "outputs": [
    {
     "data": {
      "text/plain": [
       "<matplotlib.figure.Figure at 0x7fc2c04416d0>"
      ]
     },
     "execution_count": 34,
     "metadata": {},
     "output_type": "execute_result"
    },
    {
     "data": {
      "image/png": "[encoded data removed]",
      "text/plain": [
       "<matplotlib.figure.Figure at 0x7fc2bff96090>"
      ]
     },
     "metadata": {},
     "output_type": "display_data"
    },
    {
     "data": {
      "image/png": "[encoded data removed]",
      "text/plain": [
       "<matplotlib.figure.Figure at 0x7fc2bff96a10>"
      ]
     },
     "metadata": {},
     "output_type": "display_data"
    },
    {
     "data": {
      "text/plain": [
       "<matplotlib.figure.Figure at 0x7fc2c04416d0>"
      ]
     },
     "metadata": {},
     "output_type": "display_data"
    }
   ],
   "source": [
    "res_funcao=[]\n",
    "lista_dados=range(-5,5+1)\n",
    "for numero in lista_dados:\n",
    "    res_funcao.append(pow(numero,2)+10)\n",
    "plt.plot(res_funcao)\n",
    "plt.figure()\n",
    "plt.pie(res_funcao)\n",
    "plt.figure()"
   ]
  },
  {
   "cell_type": "markdown",
   "metadata": {
    "collapsed": true
   },
   "source": [
    "Reverse:"
   ]
  },
  {
   "cell_type": "code",
   "execution_count": 35,
   "metadata": {
    "collapsed": false
   },
   "outputs": [],
   "source": [
    " class Person(object):\n",
    "        def __init__(self, name, age):\n",
    "            self.name = name\n",
    "            self.age = age\n",
    "\n",
    "        def __repr__(self):\n",
    "            return \"<name: %s, age: %s>\" % (self.name, self.age)"
   ]
  },
  {
   "cell_type": "code",
   "execution_count": 36,
   "metadata": {
    "collapsed": true
   },
   "outputs": [],
   "source": [
    "jack = Person('Jack', 19)\n",
    "adam = Person('Adam', 43)\n",
    "becky = Person('Becky', 11)\n",
    "people = [jack, adam, becky]"
   ]
  },
  {
   "cell_type": "code",
   "execution_count": 38,
   "metadata": {
    "collapsed": false
   },
   "outputs": [
    {
     "data": {
      "text/plain": [
       "[<name: Adam, age: 43>, <name: Jack, age: 19>, <name: Becky, age: 11>]"
      ]
     },
     "execution_count": 38,
     "metadata": {},
     "output_type": "execute_result"
    }
   ],
   "source": [
    "sorted(people, #objeto analisado\n",
    "       key=lambda  # chave lambda\n",
    "       x: #objeto como funcao\n",
    "       x.age, # parametro de ordenacao\n",
    "       reverse=True) #opcional reverse"
   ]
  },
  {
   "cell_type": "markdown",
   "metadata": {},
   "source": [
    "Reference: \n",
    "* http://blog.alienretro.com/entendendo-python-lambda/ \n",
    "* http://www.secnetix.de/olli/Python/lambda_functions.hawk\n"
   ]
  }
 ],
 "metadata": {
  "kernelspec": {
   "display_name": "Python 2",
   "language": "python",
   "name": "python2"
  },
  "language_info": {
   "codemirror_mode": {
    "name": "ipython",
    "version": 2
   },
   "file_extension": ".py",
   "mimetype": "text/x-python",
   "name": "python",
   "nbconvert_exporter": "python",
   "pygments_lexer": "ipython2",
   "version": "2.7.12"
  }
 },
 "nbformat": 4,
 "nbformat_minor": 1
}
