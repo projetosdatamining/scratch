{
 "cells": [
  {
   "cell_type": "markdown",
   "metadata": {},
   "source": [
    "## Imporando bibliotecas"
   ]
  },
  {
   "cell_type": "code",
   "execution_count": 1,
   "metadata": {
    "collapsed": true
   },
   "outputs": [],
   "source": [
    "import time\n",
    "from timeit import Timer #import timeit\n",
    "import pandas as pd"
   ]
  },
  {
   "cell_type": "markdown",
   "metadata": {},
   "source": [
    "### Criando lista de testes"
   ]
  },
  {
   "cell_type": "code",
   "execution_count": 58,
   "metadata": {
    "collapsed": true
   },
   "outputs": [],
   "source": [
    "minhaLista = [-2,8,10,0]"
   ]
  },
  {
   "cell_type": "markdown",
   "metadata": {},
   "source": [
    "### Criando uma função normal que soma o número dez a uma lista de valores repassados"
   ]
  },
  {
   "cell_type": "code",
   "execution_count": 64,
   "metadata": {
    "collapsed": false
   },
   "outputs": [
    {
     "name": "stdout",
     "output_type": "stream",
     "text": [
      "Valores iniciais [-2, 8, 10, 0]\n",
      "Novos Valores: [8, 18, 20, 10]\n"
     ]
    }
   ],
   "source": [
    "def somar_dez(TMS):\n",
    "    novos_valores=[]\n",
    "    #considerando 10 anos como tempo medio normal de vida apos tratamento\n",
    "    for i in TMS:\n",
    "        x = i\n",
    "        y = (10+x)\n",
    "        novos_valores.append(y)\n",
    "    return novos_valores\n",
    "novos_valores=somar_dez(minhaLista)\n",
    "print(\"Valores iniciais\",minhaLista)\n",
    "print(\"Novos Valores:\",novos_valores)"
   ]
  },
  {
   "cell_type": "markdown",
   "metadata": {},
   "source": [
    "## Usando Lambda e ListCompreensions"
   ]
  },
  {
   "cell_type": "markdown",
   "metadata": {},
   "source": [
    "### Duas formas interessantes de obtermos os mesmos resultados"
   ]
  },
  {
   "cell_type": "code",
   "execution_count": 61,
   "metadata": {
    "collapsed": false
   },
   "outputs": [
    {
     "data": {
      "text/plain": [
       "[8, 18, 20, 10]"
      ]
     },
     "execution_count": 61,
     "metadata": {},
     "output_type": "execute_result"
    }
   ],
   "source": [
    "[x+10 for x in minhaLista]"
   ]
  },
  {
   "cell_type": "code",
   "execution_count": 62,
   "metadata": {
    "collapsed": false
   },
   "outputs": [
    {
     "data": {
      "text/plain": [
       "[8, 18, 20, 10]"
      ]
     },
     "execution_count": 62,
     "metadata": {},
     "output_type": "execute_result"
    }
   ],
   "source": [
    "[(lambda x: x+10)(x) for x in minhaLista]"
   ]
  },
  {
   "cell_type": "markdown",
   "metadata": {},
   "source": [
    "### Testando a performance dos algoritmos/formas"
   ]
  },
  {
   "cell_type": "raw",
   "metadata": {},
   "source": [
    "Resultados:\n",
    "\n",
    "Nos testes com 30000 repetições a forma: [x+10 for x in minhaLista] consumiu menos tempo e portanto é a mais recomendada. \n",
    "\n",
    "Os valores foram respectivamente 0.023 (resultado1 listCompreensions); 0.032 (resultado0 = funcao comum); e por fim 0.052 (funcao lambda)."
   ]
  },
  {
   "cell_type": "markdown",
   "metadata": {},
   "source": [
    "### Testes individuais"
   ]
  },
  {
   "cell_type": "code",
   "execution_count": 78,
   "metadata": {
    "collapsed": false
   },
   "outputs": [
    {
     "name": "stdout",
     "output_type": "stream",
     "text": [
      "Resultado: [8, 18, 20, 10]   Tempo 0.03207969665527344\n"
     ]
    }
   ],
   "source": [
    "# verifica o tempo de resposta de execucao\n",
    "ini = time.time()\n",
    "for x in range(30000):\n",
    "    resultado0=somar_dez(minhaLista)\n",
    "fim = time.time()\n",
    "print (\"Resultado:\",resultado0,\"  Tempo\", fim-ini)"
   ]
  },
  {
   "cell_type": "code",
   "execution_count": 79,
   "metadata": {
    "collapsed": false
   },
   "outputs": [
    {
     "name": "stdout",
     "output_type": "stream",
     "text": [
      "Resultado: [8, 18, 20, 10]   Tempo 0.02381134033203125\n"
     ]
    }
   ],
   "source": [
    "# verifica o tempo de resposta de execucao\n",
    "ini = time.time()\n",
    "for x in range(30000):\n",
    "    resultado1=[x+10 for x in minhaLista]\n",
    "fim = time.time()\n",
    "print (\"Resultado:\",resultado1,\"  Tempo\", fim-ini)"
   ]
  },
  {
   "cell_type": "code",
   "execution_count": 80,
   "metadata": {
    "collapsed": false
   },
   "outputs": [
    {
     "name": "stdout",
     "output_type": "stream",
     "text": [
      "Resultado: [8, 18, 20, 10]   Tempo 0.0528867244720459\n"
     ]
    }
   ],
   "source": [
    "# verifica o tempo de resposta de execucao\n",
    "ini = time.time()\n",
    "for x in range(30000):\n",
    "    resultado2=[\n",
    "    (lambda x: x+10)\n",
    "    (x) for x in minhaLista\n",
    "    ]\n",
    "fim = time.time()\n",
    "print (\"Resultado:\",resultado2,\"  Tempo\", fim-ini)"
   ]
  },
  {
   "cell_type": "markdown",
   "metadata": {},
   "source": [
    "Reference: \n",
    "* http://blog.alienretro.com/entendendo-python-lambda/ \n",
    "* http://www.secnetix.de/olli/Python/lambda_functions.hawk"
   ]
  },
  {
   "cell_type": "code",
   "execution_count": null,
   "metadata": {
    "collapsed": true
   },
   "outputs": [],
   "source": []
  }
 ],
 "metadata": {
  "kernelspec": {
   "display_name": "Python 2",
   "language": "python",
   "name": "python2"
  },
  "language_info": {
   "codemirror_mode": {
    "name": "ipython",
    "version": 2
   },
   "file_extension": ".py",
   "mimetype": "text/x-python",
   "name": "python",
   "nbconvert_exporter": "python",
   "pygments_lexer": "ipython2",
   "version": "2.7.12"
  }
 },
 "nbformat": 4,
 "nbformat_minor": 1
}
